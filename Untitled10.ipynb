{
  "nbformat": 4,
  "nbformat_minor": 0,
  "metadata": {
    "colab": {
      "provenance": [],
      "authorship_tag": "ABX9TyMeuIYM6p7GBRJXrvOSA7iz",
      "include_colab_link": true
    },
    "kernelspec": {
      "name": "python3",
      "display_name": "Python 3"
    },
    "language_info": {
      "name": "python"
    }
  },
  "cells": [
    {
      "cell_type": "markdown",
      "metadata": {
        "id": "view-in-github",
        "colab_type": "text"
      },
      "source": [
        "<a href=\"https://colab.research.google.com/github/JaineelB/-kangaroo-in-jungle-1/blob/main/Untitled10.ipynb\" target=\"_parent\"><img src=\"https://colab.research.google.com/assets/colab-badge.svg\" alt=\"Open In Colab\"/></a>"
      ]
    },
    {
      "cell_type": "code",
      "execution_count": null,
      "metadata": {
        "id": "oMQCHFwtxIIF"
      },
      "outputs": [],
      "source": [
        "import os\n",
        "import shutil\n",
        "\n",
        "from_dir = \"C:\\Users\\vishal mestry\\Desktop\"\n",
        "to_dir = \"C:\\Users\\vishal mestry\\Documents\"\n",
        "\n",
        "list_of_files = os.listdir(from_dir)\n",
        "print(list_of_files)\n",
        "\n",
        "for file_name in list_of_files:\n",
        "\n",
        "  name,extension = os.path.splitext(file_name)\n",
        "  print(name)\n",
        "  print(extension)"
      ]
    }
  ]
}
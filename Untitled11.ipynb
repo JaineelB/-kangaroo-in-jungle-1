{
  "nbformat": 4,
  "nbformat_minor": 0,
  "metadata": {
    "colab": {
      "provenance": [],
      "authorship_tag": "ABX9TyMizBeZke75I2Nja/2we/Xn",
      "include_colab_link": true
    },
    "kernelspec": {
      "name": "python3",
      "display_name": "Python 3"
    },
    "language_info": {
      "name": "python"
    }
  },
  "cells": [
    {
      "cell_type": "markdown",
      "metadata": {
        "id": "view-in-github",
        "colab_type": "text"
      },
      "source": [
        "<a href=\"https://colab.research.google.com/github/JaineelB/-kangaroo-in-jungle-1/blob/main/Untitled11.ipynb\" target=\"_parent\"><img src=\"https://colab.research.google.com/assets/colab-badge.svg\" alt=\"Open In Colab\"/></a>"
      ]
    },
    {
      "cell_type": "code",
      "execution_count": null,
      "metadata": {
        "id": "ZaAyOfPcz2q3"
      },
      "outputs": [],
      "source": [
        "import sys\n",
        "import time\n",
        "import random\n",
        "import os\n",
        "import shutil\n",
        "import logging\n",
        "\n",
        "from watchdog.observers import Observer\n",
        "from watchdog.events impot fileSystemEventHandler\n",
        "\n",
        "from_dir\"C:\\Users\\vishal mestry\\Desktop\"\n",
        "\n",
        "class fileEventHandler(FileSystemEventHandler) :\n",
        "  def on_created(self,event):\n",
        "    print(\"Hey, {event.src_path} has been created !\")\n",
        "\n",
        "  def on_deleted(self,event):\n",
        "    print(f\"Oops! Someone deleted {event.src_path} ! \")\n",
        "\n",
        "  def on_modified(self,event):\n",
        "    print(f\"Hey there !, {event.src_path} has been modified \")\n",
        "  \n",
        "  def on_moved(self,event):\n",
        "    print(f\"someone moved {event.src_path} to {event.dest_path}\")\n",
        "\n",
        "event_handler = FileEventHandler()\n",
        "\n",
        "observer = Observer()\n",
        "\n",
        "observer.schedule(event_handler, from_dir, recursive=True)\n",
        "\n",
        "observer.start()\n",
        "\n",
        "try:\n",
        "    while True:\n",
        "        time.sleep(2)\n",
        "        print(\"running...\")\n",
        "except KeyboardInterrupt:\n",
        "    print(\"stopped!\")\n",
        "    observer.stop()"
      ]
    }
  ]
}
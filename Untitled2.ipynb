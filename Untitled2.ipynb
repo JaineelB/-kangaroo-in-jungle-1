{
  "nbformat": 4,
  "nbformat_minor": 0,
  "metadata": {
    "colab": {
      "provenance": [],
      "authorship_tag": "ABX9TyNNVpaqy5tCOZtG1ufZbw55",
      "include_colab_link": true
    },
    "kernelspec": {
      "name": "python3",
      "display_name": "Python 3"
    },
    "language_info": {
      "name": "python"
    }
  },
  "cells": [
    {
      "cell_type": "markdown",
      "metadata": {
        "id": "view-in-github",
        "colab_type": "text"
      },
      "source": [
        "<a href=\"https://colab.research.google.com/github/JaineelB/-kangaroo-in-jungle-1/blob/main/Untitled2.ipynb\" target=\"_parent\"><img src=\"https://colab.research.google.com/assets/colab-badge.svg\" alt=\"Open In Colab\"/></a>"
      ]
    },
    {
      "cell_type": "code",
      "execution_count": 15,
      "metadata": {
        "colab": {
          "base_uri": "https://localhost:8080/"
        },
        "id": "W5XxmsGDGw6f",
        "outputId": "bbd795ed-34f7-492f-9a40-67e977b65532"
      },
      "outputs": [
        {
          "output_type": "execute_result",
          "data": {
            "text/plain": [
              "['Maths', '90', 'English', '85', 'History', '75', 'Art', '85']"
            ]
          },
          "metadata": {},
          "execution_count": 15
        }
      ],
      "source": [
        "array = ['Maths','90' , 'English','85' , 'History','75' , 'Art','85']\n",
        "list(array)\n",
        "\n",
        "\n",
        "array[0:8:1]\n"
      ]
    }
  ]
}
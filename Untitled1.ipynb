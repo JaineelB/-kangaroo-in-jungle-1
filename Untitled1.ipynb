{
  "nbformat": 4,
  "nbformat_minor": 0,
  "metadata": {
    "colab": {
      "provenance": [],
      "authorship_tag": "ABX9TyMF9mKrHcsgUz9z7rBTZkws",
      "include_colab_link": true
    },
    "kernelspec": {
      "name": "python3",
      "display_name": "Python 3"
    },
    "language_info": {
      "name": "python"
    }
  },
  "cells": [
    {
      "cell_type": "markdown",
      "metadata": {
        "id": "view-in-github",
        "colab_type": "text"
      },
      "source": [
        "<a href=\"https://colab.research.google.com/github/JaineelB/-kangaroo-in-jungle-1/blob/main/Untitled1.ipynb\" target=\"_parent\"><img src=\"https://colab.research.google.com/assets/colab-badge.svg\" alt=\"Open In Colab\"/></a>"
      ]
    },
    {
      "cell_type": "code",
      "execution_count": 3,
      "metadata": {
        "colab": {
          "base_uri": "https://localhost:8080/"
        },
        "id": "psn1R-X1BJHW",
        "outputId": "b689ffc4-2f1b-4edd-ba6b-22806f078d2f"
      },
      "outputs": [
        {
          "output_type": "stream",
          "name": "stdout",
          "text": [
            "number =  7\n",
            "Number is true\n",
            "50 + 90 = 140\n",
            "100 - 68 = 32\n"
          ]
        }
      ],
      "source": [
        "num = 7\n",
        "\n",
        "print(\"number = \" , num)\n",
        "\n",
        "if(num >= 5 or num <=10 ):\n",
        "  print(\"Number is true\")\n",
        "\n",
        "def addition (x,y):\n",
        " sum = x+y;\n",
        " return sum\n",
        " \n",
        "x=50\n",
        "y=90\n",
        "print(x , \"+\" , y , \"=\" ,addition(x,y))\n",
        "\n",
        "def subtraction(x,y):\n",
        "  difference = x-y ; \n",
        "  return difference\n",
        "\n",
        "x=100\n",
        "y=68\n",
        "print(x , \"-\" , y , \"=\" , subtraction(x,y))\n",
        "\n",
        "\n"
      ]
    }
  ]
}
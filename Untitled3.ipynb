{
  "nbformat": 4,
  "nbformat_minor": 0,
  "metadata": {
    "colab": {
      "provenance": [],
      "authorship_tag": "ABX9TyM0zD9ZF7LztMrjIbBXLJf/",
      "include_colab_link": true
    },
    "kernelspec": {
      "name": "python3",
      "display_name": "Python 3"
    },
    "language_info": {
      "name": "python"
    }
  },
  "cells": [
    {
      "cell_type": "markdown",
      "metadata": {
        "id": "view-in-github",
        "colab_type": "text"
      },
      "source": [
        "<a href=\"https://colab.research.google.com/github/JaineelB/-kangaroo-in-jungle-1/blob/main/Untitled3.ipynb\" target=\"_parent\"><img src=\"https://colab.research.google.com/assets/colab-badge.svg\" alt=\"Open In Colab\"/></a>"
      ]
    },
    {
      "cell_type": "code",
      "execution_count": 24,
      "metadata": {
        "colab": {
          "base_uri": "https://localhost:8080/"
        },
        "id": "iPVkhOglhJK6",
        "outputId": "9bdacff7-b433-466b-e1bf-77142d1bffb7"
      },
      "outputs": [
        {
          "output_type": "stream",
          "name": "stdout",
          "text": [
            "90\n",
            "91\n",
            "92\n",
            "93\n",
            "94\n",
            "95\n",
            "0\n",
            "3\n",
            "6\n",
            "9\n",
            "12\n",
            "15\n",
            "18\n",
            "0\n",
            "-1\n",
            "-2\n",
            "-3\n",
            "-4\n",
            "2\n",
            "(1, 2, 3, 4, 5)\n",
            "1\n",
            "2\n",
            "3\n",
            "4\n",
            "5\n"
          ]
        }
      ],
      "source": [
        "list1 = [90,91,92,93,94,95]\n",
        "\n",
        "for i in list1:\n",
        " print(i)\n",
        "\n",
        "for g in range(0,19,3):\n",
        " print(g)\n",
        "\n",
        "for t in range(0,-5,-1):\n",
        "  print(t)\n",
        "\n",
        "listofnumbers = [75, 98, 89, 86, 79, 62, 78, 61, 90, 97, 92, 61, 64, 97, 82, 69, 87, 96, 65, 75, 85, 76, 95, 83, 62, 80, 80, 77, 94, 71, 86, 94, 85, 99, 77, 68, 92, 91, 99, 90]\n",
        "\n",
        "number = 97\n",
        "count = 0\n",
        "\n",
        "for i in listofnumbers:\n",
        "  if(number == i):\n",
        "    count = count + 1\n",
        "\n",
        "print(count)\n",
        "\n",
        "tuple1 = (1,2,3,4,5)\n",
        "print(tuple1)\n",
        "\n",
        "for i in tuple1:\n",
        " print(i)"
      ]
    }
  ]
}
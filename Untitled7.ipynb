{
  "nbformat": 4,
  "nbformat_minor": 0,
  "metadata": {
    "colab": {
      "provenance": [],
      "authorship_tag": "ABX9TyNizqMBmbCLvFaFwhkBO3BR",
      "include_colab_link": true
    },
    "kernelspec": {
      "name": "python3",
      "display_name": "Python 3"
    },
    "language_info": {
      "name": "python"
    }
  },
  "cells": [
    {
      "cell_type": "markdown",
      "metadata": {
        "id": "view-in-github",
        "colab_type": "text"
      },
      "source": [
        "<a href=\"https://colab.research.google.com/github/JaineelB/-kangaroo-in-jungle-1/blob/main/Untitled7.ipynb\" target=\"_parent\"><img src=\"https://colab.research.google.com/assets/colab-badge.svg\" alt=\"Open In Colab\"/></a>"
      ]
    },
    {
      "cell_type": "code",
      "execution_count": null,
      "metadata": {
        "id": "GCcae8q9Pue2"
      },
      "outputs": [],
      "source": [
        "name = (input(\"Enter your name : \"))\n",
        "iteration = len(name)\n",
        "for i in range(0,iteration):\n",
        "  for j in range(0,iteration):\n",
        "    if(i==j):\n",
        "      print(name[i],sep=\" \",end=\" \")\n",
        "    else:\n",
        "      print(\"*\",sep=\" \",end=\" \")\n",
        "  print()"
      ]
    }
  ]
}
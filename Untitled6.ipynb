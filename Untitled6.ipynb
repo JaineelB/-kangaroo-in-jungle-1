{
  "nbformat": 4,
  "nbformat_minor": 0,
  "metadata": {
    "colab": {
      "provenance": [],
      "authorship_tag": "ABX9TyPTPn/G4hkKJchE9RZ77+Ol",
      "include_colab_link": true
    },
    "kernelspec": {
      "name": "python3",
      "display_name": "Python 3"
    },
    "language_info": {
      "name": "python"
    }
  },
  "cells": [
    {
      "cell_type": "markdown",
      "metadata": {
        "id": "view-in-github",
        "colab_type": "text"
      },
      "source": [
        "<a href=\"https://colab.research.google.com/github/JaineelB/-kangaroo-in-jungle-1/blob/main/Untitled6.ipynb\" target=\"_parent\"><img src=\"https://colab.research.google.com/assets/colab-badge.svg\" alt=\"Open In Colab\"/></a>"
      ]
    },
    {
      "cell_type": "code",
      "execution_count": 1,
      "metadata": {
        "colab": {
          "base_uri": "https://localhost:8080/"
        },
        "id": "09rDNBrwOJTI",
        "outputId": "8d2aa28f-d78b-4865-b1a2-59dc9b382dad"
      },
      "outputs": [
        {
          "output_type": "stream",
          "name": "stdout",
          "text": [
            "Enter lower limit :5\n",
            "Enter upper limit :10\n",
            "Enter number to be divided by :1\n",
            "5\n",
            "6\n",
            "7\n",
            "8\n",
            "9\n",
            "10\n"
          ]
        }
      ],
      "source": [
        "lower = int(input(\"Enter lower limit :\"))\n",
        "upper = int(input(\"Enter upper limit :\"))\n",
        "n=int(input(\"Enter number to be divided by :\"))\n",
        "for i in range(lower,upper+1):\n",
        "  if(i%n==0):\n",
        "    print(i)"
      ]
    }
  ]
}